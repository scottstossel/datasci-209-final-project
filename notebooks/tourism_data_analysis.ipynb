{
 "cells": [
  {
   "cell_type": "code",
   "execution_count": 1,
   "metadata": {},
   "outputs": [
    {
     "name": "stdout",
     "output_type": "stream",
     "text": [
      "Arrivals DataFrame:\n",
      "          Country   1995   1996   1997   1998    1999     2000     2001  \\\n",
      "0         ALBANIA  304.0  287.0  119.0  184.0   371.0    317.0    354.0   \n",
      "1         ALGERIA  520.0  605.0  635.0  678.0   749.0    866.0    901.0   \n",
      "2  AMERICAN SAMOA   34.0   35.0   26.0   36.0    41.0     44.0     36.0   \n",
      "3         ANDORRA    0.0    0.0    0.0    0.0  9422.0  10991.0  11351.0   \n",
      "4          ANGOLA    9.0   21.0   45.0   52.0    45.0     51.0     67.0   \n",
      "\n",
      "      2002     2003  ...    2013    2014    2015    2016    2017    2018  \\\n",
      "0    470.0    557.0  ...  3256.0  3673.0  4131.0  4736.0  5118.0  5927.0   \n",
      "1    988.0   1166.0  ...  2733.0  2301.0  1710.0  2039.0  2451.0  2657.0   \n",
      "2      0.0      0.0  ...    49.3    51.6    47.1    38.3    42.3    51.8   \n",
      "3  11507.0  11601.0  ...  7676.0  7797.0  7850.0  8025.0  8152.0  8328.0   \n",
      "4     91.0    107.0  ...   650.0   595.0   592.0   397.0   261.0   218.0   \n",
      "\n",
      "     2019    2020    2021    2022  \n",
      "0  6406.0  2658.0  5689.0  7543.8  \n",
      "1  2371.0   591.0   125.0  1398.0  \n",
      "2    58.6     0.9     0.0     0.0  \n",
      "3  8235.0  5207.0  5422.0  8426.7  \n",
      "4   218.0    64.0    64.0   130.0  \n",
      "\n",
      "[5 rows x 29 columns]\n",
      "\n",
      "Transport DataFrame:\n",
      "   Country Arrival by mode of transport   1995   1996   1997  1998   1999  \\\n",
      "0  ALBANIA                          Air   45.0   39.0   32.0  79.0   86.0   \n",
      "1  ALBANIA                        Water   83.0   78.0   19.0  33.0  152.0   \n",
      "2  ALBANIA                         Land  176.0  170.0   68.0  72.0  133.0   \n",
      "3  ALGERIA                          Air  346.0  370.0  343.0   0.0  369.0   \n",
      "4  ALGERIA                        Water  110.0  172.0  107.0   0.0  196.0   \n",
      "\n",
      "    2000   2001   2002  ...    2013    2014    2015    2016    2017    2018  \\\n",
      "0   72.0   91.0   80.0  ...   314.0   337.2   401.0   457.0   577.8   691.6   \n",
      "1   79.0  103.0  111.0  ...   182.0   198.0   211.0   276.0   393.0   439.3   \n",
      "2  166.0  160.0  279.0  ...  2760.0  3137.5  3519.0  4003.0  4146.8  4795.9   \n",
      "3  382.0  403.0  456.0  ...     0.0     0.0     0.0     0.0     0.0     0.0   \n",
      "4  201.0  203.0  322.0  ...     0.0     0.0     0.0     0.0     0.0     0.0   \n",
      "\n",
      "     2019    2020    2021    2022  \n",
      "0   783.9   269.8   764.7  1250.0  \n",
      "1   468.4    64.1   205.9   383.9  \n",
      "2  5153.8  2323.9  4718.1  5909.9  \n",
      "3     0.0     0.0     0.0     0.0  \n",
      "4     0.0     0.0     0.0     0.0  \n",
      "\n",
      "[5 rows x 30 columns]\n",
      "\n",
      "Regions DataFrame:\n",
      "   Country          Arrival by Region  1995  1996  1997  1998   1999   2000  \\\n",
      "0  ALBANIA                     Africa   0.0   0.0   0.0   0.0    0.2    0.2   \n",
      "1  ALBANIA                   Americas   0.0   0.0   0.0   0.0   11.0   14.0   \n",
      "2  ALBANIA  East Asia and the Pacific   0.0   0.0   0.0   0.0    1.0    2.0   \n",
      "3  ALBANIA                     Europe   0.0   0.0   0.0   0.0  322.0  295.0   \n",
      "4  ALBANIA                Middle East   0.0   0.0   0.0   0.0    1.0    1.0   \n",
      "\n",
      "    2001   2002  ...    2013    2014    2015    2016    2017    2018    2019  \\\n",
      "0    0.1    0.1  ...     1.0     1.0     3.0     2.4     2.8     3.5    24.3   \n",
      "1   14.0   16.0  ...    73.3    90.0    96.8   105.0   125.3   148.8   156.7   \n",
      "2    2.0    3.0  ...    23.6    31.0    33.0    36.3    54.4    68.1    68.2   \n",
      "3  320.0  439.0  ...  2963.6  3423.7  3759.4  4490.6  4694.3  5331.6  5796.1   \n",
      "4    1.0    1.0  ...     4.0     2.6     3.6     4.8     5.6     7.2    11.7   \n",
      "\n",
      "     2020    2021    2022  \n",
      "0     1.7     3.2     4.6  \n",
      "1    30.0   115.8   177.4  \n",
      "2     5.0     8.4    26.8  \n",
      "3  2616.9  5172.8  6921.7  \n",
      "4     1.8    37.0    41.9  \n",
      "\n",
      "[5 rows x 30 columns]\n"
     ]
    }
   ],
   "source": [
    "import pandas as pd\n",
    "import altair as alt\n",
    "# Load the datasets\n",
    "arrivals_df = pd.read_csv(\"../data/export/df_cleaned_Inbound_Tourism_Arrivals.csv\")\n",
    "transport_df = pd.read_csv(\"../data/export/df_cleaned_Inbound_Tourism_Transport.csv\")\n",
    "regions_df = pd.read_csv(\"../data/export/df_cleaned_Inbound_Tourism_Regions.csv\")\n",
    "\n",
    "# Preview datasets\n",
    "print(\"Arrivals DataFrame:\")\n",
    "print(arrivals_df.head())\n",
    "print(\"\\nTransport DataFrame:\")\n",
    "print(transport_df.head())\n",
    "print(\"\\nRegions DataFrame:\")\n",
    "print(regions_df.head())\n"
   ]
  },
  {
   "cell_type": "code",
   "execution_count": 2,
   "metadata": {},
   "outputs": [
    {
     "data": {
      "application/vnd.microsoft.datawrangler.viewer.v0+json": {
       "columns": [
        {
         "name": "index",
         "rawType": "int64",
         "type": "integer"
        },
        {
         "name": "Country",
         "rawType": "object",
         "type": "string"
        },
        {
         "name": "Year",
         "rawType": "int64",
         "type": "integer"
        },
        {
         "name": "Tourist Arrivals",
         "rawType": "float64",
         "type": "float"
        }
       ],
       "conversionMethod": "pd.DataFrame",
       "ref": "2e8bc479-fc73-44f8-b923-d723798bbe03",
       "rows": [
        [
         "0",
         "ALBANIA",
         "1995",
         "304.0"
        ],
        [
         "1",
         "ALGERIA",
         "1995",
         "520.0"
        ],
        [
         "2",
         "AMERICAN SAMOA",
         "1995",
         "34.0"
        ],
        [
         "3",
         "ANDORRA",
         "1995",
         "0.0"
        ],
        [
         "4",
         "ANGOLA",
         "1995",
         "9.0"
        ]
       ],
       "shape": {
        "columns": 3,
        "rows": 5
       }
      },
      "text/html": [
       "<div>\n",
       "<style scoped>\n",
       "    .dataframe tbody tr th:only-of-type {\n",
       "        vertical-align: middle;\n",
       "    }\n",
       "\n",
       "    .dataframe tbody tr th {\n",
       "        vertical-align: top;\n",
       "    }\n",
       "\n",
       "    .dataframe thead th {\n",
       "        text-align: right;\n",
       "    }\n",
       "</style>\n",
       "<table border=\"1\" class=\"dataframe\">\n",
       "  <thead>\n",
       "    <tr style=\"text-align: right;\">\n",
       "      <th></th>\n",
       "      <th>Country</th>\n",
       "      <th>Year</th>\n",
       "      <th>Tourist Arrivals</th>\n",
       "    </tr>\n",
       "  </thead>\n",
       "  <tbody>\n",
       "    <tr>\n",
       "      <th>0</th>\n",
       "      <td>ALBANIA</td>\n",
       "      <td>1995</td>\n",
       "      <td>304.0</td>\n",
       "    </tr>\n",
       "    <tr>\n",
       "      <th>1</th>\n",
       "      <td>ALGERIA</td>\n",
       "      <td>1995</td>\n",
       "      <td>520.0</td>\n",
       "    </tr>\n",
       "    <tr>\n",
       "      <th>2</th>\n",
       "      <td>AMERICAN SAMOA</td>\n",
       "      <td>1995</td>\n",
       "      <td>34.0</td>\n",
       "    </tr>\n",
       "    <tr>\n",
       "      <th>3</th>\n",
       "      <td>ANDORRA</td>\n",
       "      <td>1995</td>\n",
       "      <td>0.0</td>\n",
       "    </tr>\n",
       "    <tr>\n",
       "      <th>4</th>\n",
       "      <td>ANGOLA</td>\n",
       "      <td>1995</td>\n",
       "      <td>9.0</td>\n",
       "    </tr>\n",
       "  </tbody>\n",
       "</table>\n",
       "</div>"
      ],
      "text/plain": [
       "          Country  Year  Tourist Arrivals\n",
       "0         ALBANIA  1995             304.0\n",
       "1         ALGERIA  1995             520.0\n",
       "2  AMERICAN SAMOA  1995              34.0\n",
       "3         ANDORRA  1995               0.0\n",
       "4          ANGOLA  1995               9.0"
      ]
     },
     "execution_count": 2,
     "metadata": {},
     "output_type": "execute_result"
    }
   ],
   "source": [
    "# Pivoting the arrivals dataset\n",
    "arrivals_long = arrivals_df.melt(id_vars=[\"Country\"], var_name=\"Year\", value_name=\"Tourist Arrivals\")\n",
    "\n",
    "# Convert Year column to numeric\n",
    "arrivals_long[\"Year\"] = arrivals_long[\"Year\"].astype(int)\n",
    "\n",
    "# Preview data\n",
    "arrivals_long.head()\n"
   ]
  },
  {
   "cell_type": "code",
   "execution_count": 3,
   "metadata": {},
   "outputs": [
    {
     "data": {
      "application/vnd.microsoft.datawrangler.viewer.v0+json": {
       "columns": [
        {
         "name": "index",
         "rawType": "int64",
         "type": "integer"
        },
        {
         "name": "Country",
         "rawType": "object",
         "type": "string"
        },
        {
         "name": "Year",
         "rawType": "int64",
         "type": "integer"
        },
        {
         "name": "Tourist Arrivals",
         "rawType": "float64",
         "type": "float"
        },
        {
         "name": "Arrival by mode of transport",
         "rawType": "object",
         "type": "string"
        },
        {
         "name": "Arrivals",
         "rawType": "float64",
         "type": "float"
        }
       ],
       "conversionMethod": "pd.DataFrame",
       "ref": "af78013a-dabb-41d5-bf8b-4fe59f98289b",
       "rows": [
        [
         "0",
         "ALBANIA",
         "1995",
         "304.0",
         "Air",
         "45.0"
        ],
        [
         "1",
         "ALGERIA",
         "1995",
         "520.0",
         "Air",
         "346.0"
        ],
        [
         "2",
         "AMERICAN SAMOA",
         "1995",
         "34.0",
         "Air",
         "0.0"
        ],
        [
         "3",
         "ANGOLA",
         "1995",
         "9.0",
         "Air",
         "9.0"
        ],
        [
         "4",
         "ANGUILLA",
         "1995",
         "107.0",
         "Air",
         "29.0"
        ]
       ],
       "shape": {
        "columns": 5,
        "rows": 5
       }
      },
      "text/html": [
       "<div>\n",
       "<style scoped>\n",
       "    .dataframe tbody tr th:only-of-type {\n",
       "        vertical-align: middle;\n",
       "    }\n",
       "\n",
       "    .dataframe tbody tr th {\n",
       "        vertical-align: top;\n",
       "    }\n",
       "\n",
       "    .dataframe thead th {\n",
       "        text-align: right;\n",
       "    }\n",
       "</style>\n",
       "<table border=\"1\" class=\"dataframe\">\n",
       "  <thead>\n",
       "    <tr style=\"text-align: right;\">\n",
       "      <th></th>\n",
       "      <th>Country</th>\n",
       "      <th>Year</th>\n",
       "      <th>Tourist Arrivals</th>\n",
       "      <th>Arrival by mode of transport</th>\n",
       "      <th>Arrivals</th>\n",
       "    </tr>\n",
       "  </thead>\n",
       "  <tbody>\n",
       "    <tr>\n",
       "      <th>0</th>\n",
       "      <td>ALBANIA</td>\n",
       "      <td>1995</td>\n",
       "      <td>304.0</td>\n",
       "      <td>Air</td>\n",
       "      <td>45.0</td>\n",
       "    </tr>\n",
       "    <tr>\n",
       "      <th>1</th>\n",
       "      <td>ALGERIA</td>\n",
       "      <td>1995</td>\n",
       "      <td>520.0</td>\n",
       "      <td>Air</td>\n",
       "      <td>346.0</td>\n",
       "    </tr>\n",
       "    <tr>\n",
       "      <th>2</th>\n",
       "      <td>AMERICAN SAMOA</td>\n",
       "      <td>1995</td>\n",
       "      <td>34.0</td>\n",
       "      <td>Air</td>\n",
       "      <td>0.0</td>\n",
       "    </tr>\n",
       "    <tr>\n",
       "      <th>3</th>\n",
       "      <td>ANGOLA</td>\n",
       "      <td>1995</td>\n",
       "      <td>9.0</td>\n",
       "      <td>Air</td>\n",
       "      <td>9.0</td>\n",
       "    </tr>\n",
       "    <tr>\n",
       "      <th>4</th>\n",
       "      <td>ANGUILLA</td>\n",
       "      <td>1995</td>\n",
       "      <td>107.0</td>\n",
       "      <td>Air</td>\n",
       "      <td>29.0</td>\n",
       "    </tr>\n",
       "  </tbody>\n",
       "</table>\n",
       "</div>"
      ],
      "text/plain": [
       "          Country  Year  Tourist Arrivals Arrival by mode of transport  \\\n",
       "0         ALBANIA  1995             304.0                          Air   \n",
       "1         ALGERIA  1995             520.0                          Air   \n",
       "2  AMERICAN SAMOA  1995              34.0                          Air   \n",
       "3          ANGOLA  1995               9.0                          Air   \n",
       "4        ANGUILLA  1995             107.0                          Air   \n",
       "\n",
       "   Arrivals  \n",
       "0      45.0  \n",
       "1     346.0  \n",
       "2       0.0  \n",
       "3       9.0  \n",
       "4      29.0  "
      ]
     },
     "execution_count": 3,
     "metadata": {},
     "output_type": "execute_result"
    }
   ],
   "source": [
    "# Pivot transport data\n",
    "transport_long = transport_df.melt(id_vars=[\"Country\", \"Arrival by mode of transport\"], \n",
    "                                   var_name=\"Year\", value_name=\"Arrivals\")\n",
    "\n",
    "# Convert Year to numeric\n",
    "transport_long[\"Year\"] = transport_long[\"Year\"].astype(int)\n",
    "\n",
    "# Filter only \"Air\" travel mode\n",
    "air_travel = transport_long[transport_long[\"Arrival by mode of transport\"] == \"Air\"]\n",
    "\n",
    "# Merge with total arrivals data\n",
    "merged_df = arrivals_long.merge(air_travel, on=[\"Country\", \"Year\"], suffixes=(\"_Total\", \"_Air\"))\n",
    "\n",
    "# Preview merged data\n",
    "merged_df.head()\n"
   ]
  },
  {
   "cell_type": "code",
   "execution_count": 4,
   "metadata": {},
   "outputs": [
    {
     "name": "stderr",
     "output_type": "stream",
     "text": [
      "/var/folders/0y/g2tm105x5fj4b33ds4k_rtb00000gn/T/ipykernel_73795/1137996407.py:11: DeprecationWarning: DataFrameGroupBy.apply operated on the grouping columns. This behavior is deprecated, and in a future version of pandas the grouping columns will be excluded from the operation. Either pass `include_groups=False` to exclude the groupings or explicitly select the grouping columns after groupby to silence this warning.\n",
      "  merged_df[\"Flight Growth Category\"] = merged_df.groupby(\"Country\").apply(lambda x: classify_growth(x)).reset_index(drop=True)\n"
     ]
    },
    {
     "data": {
      "application/vnd.microsoft.datawrangler.viewer.v0+json": {
       "columns": [
        {
         "name": "index",
         "rawType": "int64",
         "type": "integer"
        },
        {
         "name": "Country",
         "rawType": "object",
         "type": "string"
        },
        {
         "name": "Year",
         "rawType": "int64",
         "type": "integer"
        },
        {
         "name": "Tourist Arrivals",
         "rawType": "float64",
         "type": "float"
        },
        {
         "name": "Arrival by mode of transport",
         "rawType": "object",
         "type": "string"
        },
        {
         "name": "Arrivals",
         "rawType": "float64",
         "type": "float"
        },
        {
         "name": "Flight Growth Category",
         "rawType": "object",
         "type": "string"
        }
       ],
       "conversionMethod": "pd.DataFrame",
       "ref": "b332a89c-d803-4031-9130-6606a916be85",
       "rows": [
        [
         "0",
         "ALBANIA",
         "1995",
         "304.0",
         "Air",
         "45.0",
         "High Increase in Direct Flights"
        ],
        [
         "1",
         "ALGERIA",
         "1995",
         "520.0",
         "Air",
         "346.0",
         "Low Increase in Direct Flights"
        ],
        [
         "2",
         "AMERICAN SAMOA",
         "1995",
         "34.0",
         "Air",
         "0.0",
         "Low Increase in Direct Flights"
        ],
        [
         "3",
         "ANGOLA",
         "1995",
         "9.0",
         "Air",
         "9.0",
         "Low Increase in Direct Flights"
        ],
        [
         "4",
         "ANGUILLA",
         "1995",
         "107.0",
         "Air",
         "29.0",
         "High Increase in Direct Flights"
        ]
       ],
       "shape": {
        "columns": 6,
        "rows": 5
       }
      },
      "text/html": [
       "<div>\n",
       "<style scoped>\n",
       "    .dataframe tbody tr th:only-of-type {\n",
       "        vertical-align: middle;\n",
       "    }\n",
       "\n",
       "    .dataframe tbody tr th {\n",
       "        vertical-align: top;\n",
       "    }\n",
       "\n",
       "    .dataframe thead th {\n",
       "        text-align: right;\n",
       "    }\n",
       "</style>\n",
       "<table border=\"1\" class=\"dataframe\">\n",
       "  <thead>\n",
       "    <tr style=\"text-align: right;\">\n",
       "      <th></th>\n",
       "      <th>Country</th>\n",
       "      <th>Year</th>\n",
       "      <th>Tourist Arrivals</th>\n",
       "      <th>Arrival by mode of transport</th>\n",
       "      <th>Arrivals</th>\n",
       "      <th>Flight Growth Category</th>\n",
       "    </tr>\n",
       "  </thead>\n",
       "  <tbody>\n",
       "    <tr>\n",
       "      <th>0</th>\n",
       "      <td>ALBANIA</td>\n",
       "      <td>1995</td>\n",
       "      <td>304.0</td>\n",
       "      <td>Air</td>\n",
       "      <td>45.0</td>\n",
       "      <td>High Increase in Direct Flights</td>\n",
       "    </tr>\n",
       "    <tr>\n",
       "      <th>1</th>\n",
       "      <td>ALGERIA</td>\n",
       "      <td>1995</td>\n",
       "      <td>520.0</td>\n",
       "      <td>Air</td>\n",
       "      <td>346.0</td>\n",
       "      <td>Low Increase in Direct Flights</td>\n",
       "    </tr>\n",
       "    <tr>\n",
       "      <th>2</th>\n",
       "      <td>AMERICAN SAMOA</td>\n",
       "      <td>1995</td>\n",
       "      <td>34.0</td>\n",
       "      <td>Air</td>\n",
       "      <td>0.0</td>\n",
       "      <td>Low Increase in Direct Flights</td>\n",
       "    </tr>\n",
       "    <tr>\n",
       "      <th>3</th>\n",
       "      <td>ANGOLA</td>\n",
       "      <td>1995</td>\n",
       "      <td>9.0</td>\n",
       "      <td>Air</td>\n",
       "      <td>9.0</td>\n",
       "      <td>Low Increase in Direct Flights</td>\n",
       "    </tr>\n",
       "    <tr>\n",
       "      <th>4</th>\n",
       "      <td>ANGUILLA</td>\n",
       "      <td>1995</td>\n",
       "      <td>107.0</td>\n",
       "      <td>Air</td>\n",
       "      <td>29.0</td>\n",
       "      <td>High Increase in Direct Flights</td>\n",
       "    </tr>\n",
       "  </tbody>\n",
       "</table>\n",
       "</div>"
      ],
      "text/plain": [
       "          Country  Year  Tourist Arrivals Arrival by mode of transport  \\\n",
       "0         ALBANIA  1995             304.0                          Air   \n",
       "1         ALGERIA  1995             520.0                          Air   \n",
       "2  AMERICAN SAMOA  1995              34.0                          Air   \n",
       "3          ANGOLA  1995               9.0                          Air   \n",
       "4        ANGUILLA  1995             107.0                          Air   \n",
       "\n",
       "   Arrivals           Flight Growth Category  \n",
       "0      45.0  High Increase in Direct Flights  \n",
       "1     346.0   Low Increase in Direct Flights  \n",
       "2       0.0   Low Increase in Direct Flights  \n",
       "3       9.0   Low Increase in Direct Flights  \n",
       "4      29.0  High Increase in Direct Flights  "
      ]
     },
     "execution_count": 4,
     "metadata": {},
     "output_type": "execute_result"
    }
   ],
   "source": [
    "# Calculate % change in air arrivals between 2010 and 2022\n",
    "def classify_growth(group):\n",
    "    year_2010 = group[group[\"Year\"] == 2010][\"Arrivals\"].values[0] if 2010 in group[\"Year\"].values else 0\n",
    "    year_2022 = group[group[\"Year\"] == 2022][\"Arrivals\"].values[0] if 2022 in group[\"Year\"].values else 0\n",
    "    if year_2010 > 0 and year_2022 > year_2010 * 1.5:\n",
    "        return \"High Increase in Direct Flights\"\n",
    "    else:\n",
    "        return \"Low Increase in Direct Flights\"\n",
    "\n",
    "# Apply function per country\n",
    "merged_df[\"Flight Growth Category\"] = merged_df.groupby(\"Country\").apply(lambda x: classify_growth(x)).reset_index(drop=True)\n",
    "\n",
    "# Preview data\n",
    "merged_df.head()\n"
   ]
  },
  {
   "cell_type": "code",
   "execution_count": 5,
   "metadata": {},
   "outputs": [
    {
     "name": "stdout",
     "output_type": "stream",
     "text": [
      "['High Increase in Direct Flights' 'Low Increase in Direct Flights' nan]\n"
     ]
    }
   ],
   "source": [
    "print(merged_df[\"Flight Growth Category\"].unique())\n",
    "\n",
    "merged_df[\"Flight Growth Category\"] = merged_df[\"Flight Growth Category\"].fillna(\"Low Increase in Direct Flights\")\n"
   ]
  },
  {
   "cell_type": "code",
   "execution_count": 6,
   "metadata": {},
   "outputs": [
    {
     "data": {
      "text/html": [
       "\n",
       "<style>\n",
       "  #altair-viz-e5787550989942cf93ec26f778b66314.vega-embed {\n",
       "    width: 100%;\n",
       "    display: flex;\n",
       "  }\n",
       "\n",
       "  #altair-viz-e5787550989942cf93ec26f778b66314.vega-embed details,\n",
       "  #altair-viz-e5787550989942cf93ec26f778b66314.vega-embed details summary {\n",
       "    position: relative;\n",
       "  }\n",
       "</style>\n",
       "<div id=\"altair-viz-e5787550989942cf93ec26f778b66314\"></div>\n",
       "<script type=\"text/javascript\">\n",
       "  var VEGA_DEBUG = (typeof VEGA_DEBUG == \"undefined\") ? {} : VEGA_DEBUG;\n",
       "  (function(spec, embedOpt){\n",
       "    let outputDiv = document.currentScript.previousElementSibling;\n",
       "    if (outputDiv.id !== \"altair-viz-e5787550989942cf93ec26f778b66314\") {\n",
       "      outputDiv = document.getElementById(\"altair-viz-e5787550989942cf93ec26f778b66314\");\n",
       "    }\n",
       "\n",
       "    const paths = {\n",
       "      \"vega\": \"https://cdn.jsdelivr.net/npm/vega@5?noext\",\n",
       "      \"vega-lib\": \"https://cdn.jsdelivr.net/npm/vega-lib?noext\",\n",
       "      \"vega-lite\": \"https://cdn.jsdelivr.net/npm/vega-lite@5.20.1?noext\",\n",
       "      \"vega-embed\": \"https://cdn.jsdelivr.net/npm/vega-embed@6?noext\",\n",
       "    };\n",
       "\n",
       "    function maybeLoadScript(lib, version) {\n",
       "      var key = `${lib.replace(\"-\", \"\")}_version`;\n",
       "      return (VEGA_DEBUG[key] == version) ?\n",
       "        Promise.resolve(paths[lib]) :\n",
       "        new Promise(function(resolve, reject) {\n",
       "          var s = document.createElement('script');\n",
       "          document.getElementsByTagName(\"head\")[0].appendChild(s);\n",
       "          s.async = true;\n",
       "          s.onload = () => {\n",
       "            VEGA_DEBUG[key] = version;\n",
       "            return resolve(paths[lib]);\n",
       "          };\n",
       "          s.onerror = () => reject(`Error loading script: ${paths[lib]}`);\n",
       "          s.src = paths[lib];\n",
       "        });\n",
       "    }\n",
       "\n",
       "    function showError(err) {\n",
       "      outputDiv.innerHTML = `<div class=\"error\" style=\"color:red;\">${err}</div>`;\n",
       "      throw err;\n",
       "    }\n",
       "\n",
       "    function displayChart(vegaEmbed) {\n",
       "      vegaEmbed(outputDiv, spec, embedOpt)\n",
       "        .catch(err => showError(`Javascript Error: ${err.message}<br>This usually means there's a typo in your chart specification. See the javascript console for the full traceback.`));\n",
       "    }\n",
       "\n",
       "    if(typeof define === \"function\" && define.amd) {\n",
       "      requirejs.config({paths});\n",
       "      let deps = [\"vega-embed\"];\n",
       "      require(deps, displayChart, err => showError(`Error loading script: ${err.message}`));\n",
       "    } else {\n",
       "      maybeLoadScript(\"vega\", \"5\")\n",
       "        .then(() => maybeLoadScript(\"vega-lite\", \"5.20.1\"))\n",
       "        .then(() => maybeLoadScript(\"vega-embed\", \"6\"))\n",
       "        .catch(showError)\n",
       "        .then(() => displayChart(vegaEmbed));\n",
       "    }\n",
       "  })({\"config\": {\"view\": {\"continuousWidth\": 300, \"continuousHeight\": 300}}, \"layer\": [{\"data\": {\"name\": \"data-d8205eab250d5463bae95dcdacfa1bb1\"}, \"mark\": {\"type\": \"line\"}, \"encoding\": {\"color\": {\"field\": \"Flight Growth Category\", \"type\": \"nominal\"}, \"x\": {\"field\": \"Year\", \"title\": \"Year\", \"type\": \"quantitative\"}, \"y\": {\"field\": \"Tourist Arrivals\", \"title\": \"Average Tourist Arrivals\", \"type\": \"quantitative\"}}, \"title\": \"Tourism Growth Over Time Based on Direct Flight Increase\"}, {\"data\": {\"name\": \"data-d8fa5e80d81cab18e6a743b53f121c13\"}, \"mark\": {\"type\": \"rule\", \"color\": \"red\", \"strokeDash\": [5, 5]}, \"encoding\": {\"x\": {\"field\": \"Year\", \"type\": \"quantitative\"}}}], \"height\": 400, \"width\": 700, \"$schema\": \"https://vega.github.io/schema/vega-lite/v5.20.1.json\", \"datasets\": {\"data-d8205eab250d5463bae95dcdacfa1bb1\": [{\"Year\": 1995, \"Flight Growth Category\": \"High Increase in Direct Flights\", \"Tourist Arrivals\": 9628.603571428572}, {\"Year\": 1995, \"Flight Growth Category\": \"Low Increase in Direct Flights\", \"Tourist Arrivals\": 4056.639393939394}, {\"Year\": 1996, \"Flight Growth Category\": \"Low Increase in Direct Flights\", \"Tourist Arrivals\": 5588.381865284974}, {\"Year\": 1997, \"Flight Growth Category\": \"Low Increase in Direct Flights\", \"Tourist Arrivals\": 5846.070466321244}, {\"Year\": 1998, \"Flight Growth Category\": \"Low Increase in Direct Flights\", \"Tourist Arrivals\": 5414.6103626943}, {\"Year\": 1999, \"Flight Growth Category\": \"Low Increase in Direct Flights\", \"Tourist Arrivals\": 5578.374611398964}, {\"Year\": 2000, \"Flight Growth Category\": \"Low Increase in Direct Flights\", \"Tourist Arrivals\": 5968.100518134715}, {\"Year\": 2001, \"Flight Growth Category\": \"Low Increase in Direct Flights\", \"Tourist Arrivals\": 5857.456994818653}, {\"Year\": 2002, \"Flight Growth Category\": \"Low Increase in Direct Flights\", \"Tourist Arrivals\": 5921.0134715025915}, {\"Year\": 2003, \"Flight Growth Category\": \"Low Increase in Direct Flights\", \"Tourist Arrivals\": 5830.946632124352}, {\"Year\": 2004, \"Flight Growth Category\": \"Low Increase in Direct Flights\", \"Tourist Arrivals\": 6941.371502590673}, {\"Year\": 2005, \"Flight Growth Category\": \"Low Increase in Direct Flights\", \"Tourist Arrivals\": 7226.076165803109}, {\"Year\": 2006, \"Flight Growth Category\": \"Low Increase in Direct Flights\", \"Tourist Arrivals\": 8056.748186528497}, {\"Year\": 2007, \"Flight Growth Category\": \"Low Increase in Direct Flights\", \"Tourist Arrivals\": 8289.709844559586}, {\"Year\": 2008, \"Flight Growth Category\": \"Low Increase in Direct Flights\", \"Tourist Arrivals\": 8033.518652849742}, {\"Year\": 2009, \"Flight Growth Category\": \"Low Increase in Direct Flights\", \"Tourist Arrivals\": 7735.080310880829}, {\"Year\": 2010, \"Flight Growth Category\": \"Low Increase in Direct Flights\", \"Tourist Arrivals\": 8028.140414507772}, {\"Year\": 2011, \"Flight Growth Category\": \"Low Increase in Direct Flights\", \"Tourist Arrivals\": 8237.656041450777}, {\"Year\": 2012, \"Flight Growth Category\": \"Low Increase in Direct Flights\", \"Tourist Arrivals\": 8597.516590673575}, {\"Year\": 2013, \"Flight Growth Category\": \"Low Increase in Direct Flights\", \"Tourist Arrivals\": 8931.446150259068}, {\"Year\": 2014, \"Flight Growth Category\": \"Low Increase in Direct Flights\", \"Tourist Arrivals\": 9303.716860103626}, {\"Year\": 2015, \"Flight Growth Category\": \"Low Increase in Direct Flights\", \"Tourist Arrivals\": 9516.741067357514}, {\"Year\": 2016, \"Flight Growth Category\": \"Low Increase in Direct Flights\", \"Tourist Arrivals\": 9854.109264248704}, {\"Year\": 2017, \"Flight Growth Category\": \"Low Increase in Direct Flights\", \"Tourist Arrivals\": 10354.123554404145}, {\"Year\": 2018, \"Flight Growth Category\": \"Low Increase in Direct Flights\", \"Tourist Arrivals\": 10761.510455958549}, {\"Year\": 2019, \"Flight Growth Category\": \"Low Increase in Direct Flights\", \"Tourist Arrivals\": 11083.159067357514}, {\"Year\": 2020, \"Flight Growth Category\": \"Low Increase in Direct Flights\", \"Tourist Arrivals\": 3472.3704663212434}, {\"Year\": 2021, \"Flight Growth Category\": \"Low Increase in Direct Flights\", \"Tourist Arrivals\": 3859.3841761658027}, {\"Year\": 2022, \"Flight Growth Category\": \"Low Increase in Direct Flights\", \"Tourist Arrivals\": 5286.209554404145}], \"data-d8fa5e80d81cab18e6a743b53f121c13\": [{\"Year\": 2020}]}}, {\"mode\": \"vega-lite\"});\n",
       "</script>"
      ],
      "text/plain": [
       "alt.LayerChart(...)"
      ]
     },
     "execution_count": 6,
     "metadata": {},
     "output_type": "execute_result"
    }
   ],
   "source": [
    "agg_df = merged_df.groupby([\"Year\", \"Flight Growth Category\"])[\"Tourist Arrivals\"].mean().reset_index()\n",
    "agg_df[\"Year\"] = agg_df[\"Year\"].astype(int)  # Ensure Year is an integer\n",
    "covid_rule = alt.Chart(pd.DataFrame({\"Year\": [2020]})).mark_rule(color=\"red\", strokeDash=[5,5]).encode(x=\"Year:Q\")\n",
    "\n",
    "color=alt.Color(\"Flight Growth Category:N\", scale=alt.Scale(scheme=\"category10\"))\n",
    "\n",
    "chart = alt.Chart(agg_df).mark_line().encode(\n",
    "    x=alt.X(\"Year:Q\", title=\"Year\"),\n",
    "    y=alt.Y(\"Tourist Arrivals:Q\", title=\"Average Tourist Arrivals\"),\n",
    "    color=\"Flight Growth Category:N\"\n",
    ").properties(\n",
    "    title=\"Tourism Growth Over Time Based on Direct Flight Increase\",\n",
    "    width=700,\n",
    "    height=400\n",
    ")\n",
    "\n",
    "\n",
    "chart + covid_rule\n"
   ]
  },
  {
   "cell_type": "code",
   "execution_count": 7,
   "metadata": {},
   "outputs": [
    {
     "name": "stdout",
     "output_type": "stream",
     "text": [
      "Flight Growth Category\n",
      "Low Increase in Direct Flights     28\n",
      "High Increase in Direct Flights     1\n",
      "Name: count, dtype: int64\n"
     ]
    }
   ],
   "source": [
    "print(agg_df[\"Flight Growth Category\"].value_counts())\n"
   ]
  },
  {
   "cell_type": "code",
   "execution_count": null,
   "metadata": {},
   "outputs": [],
   "source": []
  }
 ],
 "metadata": {
  "kernelspec": {
   "display_name": "datavis_env",
   "language": "python",
   "name": "python3"
  },
  "language_info": {
   "codemirror_mode": {
    "name": "ipython",
    "version": 3
   },
   "file_extension": ".py",
   "mimetype": "text/x-python",
   "name": "python",
   "nbconvert_exporter": "python",
   "pygments_lexer": "ipython3",
   "version": "3.10.16"
  }
 },
 "nbformat": 4,
 "nbformat_minor": 2
}
