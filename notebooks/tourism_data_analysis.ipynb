{
 "cells": [
  {
   "cell_type": "code",
   "execution_count": 1,
   "metadata": {},
   "outputs": [
    {
     "name": "stdout",
     "output_type": "stream",
     "text": [
      "Arrivals DataFrame:\n",
      "          Country   1995   1996   1997   1998    1999     2000     2001  \\\n",
      "0         ALBANIA  304.0  287.0  119.0  184.0   371.0    317.0    354.0   \n",
      "1         ALGERIA  520.0  605.0  635.0  678.0   749.0    866.0    901.0   \n",
      "2  AMERICAN SAMOA   34.0   35.0   26.0   36.0    41.0     44.0     36.0   \n",
      "3         ANDORRA    0.0    0.0    0.0    0.0  9422.0  10991.0  11351.0   \n",
      "4          ANGOLA    9.0   21.0   45.0   52.0    45.0     51.0     67.0   \n",
      "\n",
      "      2002     2003  ...    2013    2014    2015    2016    2017    2018  \\\n",
      "0    470.0    557.0  ...  3256.0  3673.0  4131.0  4736.0  5118.0  5927.0   \n",
      "1    988.0   1166.0  ...  2733.0  2301.0  1710.0  2039.0  2451.0  2657.0   \n",
      "2      0.0      0.0  ...    49.3    51.6    47.1    38.3    42.3    51.8   \n",
      "3  11507.0  11601.0  ...  7676.0  7797.0  7850.0  8025.0  8152.0  8328.0   \n",
      "4     91.0    107.0  ...   650.0   595.0   592.0   397.0   261.0   218.0   \n",
      "\n",
      "     2019    2020    2021    2022  \n",
      "0  6406.0  2658.0  5689.0  7543.8  \n",
      "1  2371.0   591.0   125.0  1398.0  \n",
      "2    58.6     0.9     0.0     0.0  \n",
      "3  8235.0  5207.0  5422.0  8426.7  \n",
      "4   218.0    64.0    64.0   130.0  \n",
      "\n",
      "[5 rows x 29 columns]\n",
      "\n",
      "Transport DataFrame:\n",
      "   Country Arrival by mode of transport   1995   1996   1997  1998   1999  \\\n",
      "0  ALBANIA                          Air   45.0   39.0   32.0  79.0   86.0   \n",
      "1  ALBANIA                        Water   83.0   78.0   19.0  33.0  152.0   \n",
      "2  ALBANIA                         Land  176.0  170.0   68.0  72.0  133.0   \n",
      "3  ALGERIA                          Air  346.0  370.0  343.0   0.0  369.0   \n",
      "4  ALGERIA                        Water  110.0  172.0  107.0   0.0  196.0   \n",
      "\n",
      "    2000   2001   2002  ...    2013    2014    2015    2016    2017    2018  \\\n",
      "0   72.0   91.0   80.0  ...   314.0   337.2   401.0   457.0   577.8   691.6   \n",
      "1   79.0  103.0  111.0  ...   182.0   198.0   211.0   276.0   393.0   439.3   \n",
      "2  166.0  160.0  279.0  ...  2760.0  3137.5  3519.0  4003.0  4146.8  4795.9   \n",
      "3  382.0  403.0  456.0  ...     0.0     0.0     0.0     0.0     0.0     0.0   \n",
      "4  201.0  203.0  322.0  ...     0.0     0.0     0.0     0.0     0.0     0.0   \n",
      "\n",
      "     2019    2020    2021    2022  \n",
      "0   783.9   269.8   764.7  1250.0  \n",
      "1   468.4    64.1   205.9   383.9  \n",
      "2  5153.8  2323.9  4718.1  5909.9  \n",
      "3     0.0     0.0     0.0     0.0  \n",
      "4     0.0     0.0     0.0     0.0  \n",
      "\n",
      "[5 rows x 30 columns]\n",
      "\n",
      "Regions DataFrame:\n",
      "   Country          Arrival by Region  1995  1996  1997  1998   1999   2000  \\\n",
      "0  ALBANIA                     Africa   0.0   0.0   0.0   0.0    0.2    0.2   \n",
      "1  ALBANIA                   Americas   0.0   0.0   0.0   0.0   11.0   14.0   \n",
      "2  ALBANIA  East Asia and the Pacific   0.0   0.0   0.0   0.0    1.0    2.0   \n",
      "3  ALBANIA                     Europe   0.0   0.0   0.0   0.0  322.0  295.0   \n",
      "4  ALBANIA                Middle East   0.0   0.0   0.0   0.0    1.0    1.0   \n",
      "\n",
      "    2001   2002  ...    2013    2014    2015    2016    2017    2018    2019  \\\n",
      "0    0.1    0.1  ...     1.0     1.0     3.0     2.4     2.8     3.5    24.3   \n",
      "1   14.0   16.0  ...    73.3    90.0    96.8   105.0   125.3   148.8   156.7   \n",
      "2    2.0    3.0  ...    23.6    31.0    33.0    36.3    54.4    68.1    68.2   \n",
      "3  320.0  439.0  ...  2963.6  3423.7  3759.4  4490.6  4694.3  5331.6  5796.1   \n",
      "4    1.0    1.0  ...     4.0     2.6     3.6     4.8     5.6     7.2    11.7   \n",
      "\n",
      "     2020    2021    2022  \n",
      "0     1.7     3.2     4.6  \n",
      "1    30.0   115.8   177.4  \n",
      "2     5.0     8.4    26.8  \n",
      "3  2616.9  5172.8  6921.7  \n",
      "4     1.8    37.0    41.9  \n",
      "\n",
      "[5 rows x 30 columns]\n"
     ]
    }
   ],
   "source": [
    "import pandas as pd\n",
    "import altair as alt\n",
    "\n",
    "# Set max rows to a higher value\n",
    "alt.data_transformers.disable_max_rows()\n",
    "\n",
    "# Load the datasets\n",
    "arrivals_df = pd.read_csv(\"../data/export/df_cleaned_Inbound_Tourism_Arrivals.csv\")\n",
    "transport_df = pd.read_csv(\"../data/export/df_cleaned_Inbound_Tourism_Transport.csv\")\n",
    "regions_df = pd.read_csv(\"../data/export/df_cleaned_Inbound_Tourism_Regions.csv\")\n",
    "\n",
    "# Preview datasets\n",
    "print(\"Arrivals DataFrame:\")\n",
    "print(arrivals_df.head())\n",
    "print(\"\\nTransport DataFrame:\")\n",
    "print(transport_df.head())\n",
    "print(\"\\nRegions DataFrame:\")\n",
    "print(regions_df.head())\n"
   ]
  },
  {
   "cell_type": "code",
   "execution_count": 2,
   "metadata": {},
   "outputs": [
    {
     "data": {
      "application/vnd.microsoft.datawrangler.viewer.v0+json": {
       "columns": [
        {
         "name": "index",
         "rawType": "int64",
         "type": "integer"
        },
        {
         "name": "Country",
         "rawType": "object",
         "type": "string"
        },
        {
         "name": "Year",
         "rawType": "int64",
         "type": "integer"
        },
        {
         "name": "Tourist Arrivals",
         "rawType": "float64",
         "type": "float"
        }
       ],
       "conversionMethod": "pd.DataFrame",
       "ref": "3e517de6-6cc7-4234-ad59-b5237ec0b81e",
       "rows": [
        [
         "0",
         "ALBANIA",
         "1995",
         "304.0"
        ],
        [
         "1",
         "ALGERIA",
         "1995",
         "520.0"
        ],
        [
         "2",
         "AMERICAN SAMOA",
         "1995",
         "34.0"
        ],
        [
         "3",
         "ANDORRA",
         "1995",
         "0.0"
        ],
        [
         "4",
         "ANGOLA",
         "1995",
         "9.0"
        ]
       ],
       "shape": {
        "columns": 3,
        "rows": 5
       }
      },
      "text/html": [
       "<div>\n",
       "<style scoped>\n",
       "    .dataframe tbody tr th:only-of-type {\n",
       "        vertical-align: middle;\n",
       "    }\n",
       "\n",
       "    .dataframe tbody tr th {\n",
       "        vertical-align: top;\n",
       "    }\n",
       "\n",
       "    .dataframe thead th {\n",
       "        text-align: right;\n",
       "    }\n",
       "</style>\n",
       "<table border=\"1\" class=\"dataframe\">\n",
       "  <thead>\n",
       "    <tr style=\"text-align: right;\">\n",
       "      <th></th>\n",
       "      <th>Country</th>\n",
       "      <th>Year</th>\n",
       "      <th>Tourist Arrivals</th>\n",
       "    </tr>\n",
       "  </thead>\n",
       "  <tbody>\n",
       "    <tr>\n",
       "      <th>0</th>\n",
       "      <td>ALBANIA</td>\n",
       "      <td>1995</td>\n",
       "      <td>304.0</td>\n",
       "    </tr>\n",
       "    <tr>\n",
       "      <th>1</th>\n",
       "      <td>ALGERIA</td>\n",
       "      <td>1995</td>\n",
       "      <td>520.0</td>\n",
       "    </tr>\n",
       "    <tr>\n",
       "      <th>2</th>\n",
       "      <td>AMERICAN SAMOA</td>\n",
       "      <td>1995</td>\n",
       "      <td>34.0</td>\n",
       "    </tr>\n",
       "    <tr>\n",
       "      <th>3</th>\n",
       "      <td>ANDORRA</td>\n",
       "      <td>1995</td>\n",
       "      <td>0.0</td>\n",
       "    </tr>\n",
       "    <tr>\n",
       "      <th>4</th>\n",
       "      <td>ANGOLA</td>\n",
       "      <td>1995</td>\n",
       "      <td>9.0</td>\n",
       "    </tr>\n",
       "  </tbody>\n",
       "</table>\n",
       "</div>"
      ],
      "text/plain": [
       "          Country  Year  Tourist Arrivals\n",
       "0         ALBANIA  1995             304.0\n",
       "1         ALGERIA  1995             520.0\n",
       "2  AMERICAN SAMOA  1995              34.0\n",
       "3         ANDORRA  1995               0.0\n",
       "4          ANGOLA  1995               9.0"
      ]
     },
     "execution_count": 2,
     "metadata": {},
     "output_type": "execute_result"
    }
   ],
   "source": [
    "# Pivoting the arrivals dataset\n",
    "arrivals_long = arrivals_df.melt(id_vars=[\"Country\"], var_name=\"Year\", value_name=\"Tourist Arrivals\")\n",
    "\n",
    "# Convert Year column to numeric\n",
    "arrivals_long[\"Year\"] = arrivals_long[\"Year\"].astype(int)\n",
    "\n",
    "# Preview data\n",
    "arrivals_long.head()\n"
   ]
  },
  {
   "cell_type": "code",
   "execution_count": 4,
   "metadata": {},
   "outputs": [
    {
     "data": {
      "application/vnd.microsoft.datawrangler.viewer.v0+json": {
       "columns": [
        {
         "name": "index",
         "rawType": "int64",
         "type": "integer"
        },
        {
         "name": "Country",
         "rawType": "object",
         "type": "string"
        },
        {
         "name": "Year",
         "rawType": "int64",
         "type": "integer"
        },
        {
         "name": "Tourist Arrivals",
         "rawType": "float64",
         "type": "float"
        },
        {
         "name": "Flight Growth Category",
         "rawType": "object",
         "type": "unknown"
        }
       ],
       "conversionMethod": "pd.DataFrame",
       "ref": "33d22d29-56f6-4977-9413-b8bec5bb158a",
       "rows": [
        [
         "0",
         "ALBANIA",
         "1995",
         "304.0",
         "High Increase in Direct Flights"
        ],
        [
         "1",
         "ALGERIA",
         "1995",
         "520.0",
         "Low Increase in Direct Flights"
        ],
        [
         "2",
         "AMERICAN SAMOA",
         "1995",
         "34.0",
         "Low Increase in Direct Flights"
        ],
        [
         "3",
         "ANDORRA",
         "1995",
         "0.0",
         null
        ],
        [
         "4",
         "ANGOLA",
         "1995",
         "9.0",
         "Low Increase in Direct Flights"
        ]
       ],
       "shape": {
        "columns": 4,
        "rows": 5
       }
      },
      "text/html": [
       "<div>\n",
       "<style scoped>\n",
       "    .dataframe tbody tr th:only-of-type {\n",
       "        vertical-align: middle;\n",
       "    }\n",
       "\n",
       "    .dataframe tbody tr th {\n",
       "        vertical-align: top;\n",
       "    }\n",
       "\n",
       "    .dataframe thead th {\n",
       "        text-align: right;\n",
       "    }\n",
       "</style>\n",
       "<table border=\"1\" class=\"dataframe\">\n",
       "  <thead>\n",
       "    <tr style=\"text-align: right;\">\n",
       "      <th></th>\n",
       "      <th>Country</th>\n",
       "      <th>Year</th>\n",
       "      <th>Tourist Arrivals</th>\n",
       "      <th>Flight Growth Category</th>\n",
       "    </tr>\n",
       "  </thead>\n",
       "  <tbody>\n",
       "    <tr>\n",
       "      <th>0</th>\n",
       "      <td>ALBANIA</td>\n",
       "      <td>1995</td>\n",
       "      <td>304.0</td>\n",
       "      <td>High Increase in Direct Flights</td>\n",
       "    </tr>\n",
       "    <tr>\n",
       "      <th>1</th>\n",
       "      <td>ALGERIA</td>\n",
       "      <td>1995</td>\n",
       "      <td>520.0</td>\n",
       "      <td>Low Increase in Direct Flights</td>\n",
       "    </tr>\n",
       "    <tr>\n",
       "      <th>2</th>\n",
       "      <td>AMERICAN SAMOA</td>\n",
       "      <td>1995</td>\n",
       "      <td>34.0</td>\n",
       "      <td>Low Increase in Direct Flights</td>\n",
       "    </tr>\n",
       "    <tr>\n",
       "      <th>3</th>\n",
       "      <td>ANDORRA</td>\n",
       "      <td>1995</td>\n",
       "      <td>0.0</td>\n",
       "      <td>NaN</td>\n",
       "    </tr>\n",
       "    <tr>\n",
       "      <th>4</th>\n",
       "      <td>ANGOLA</td>\n",
       "      <td>1995</td>\n",
       "      <td>9.0</td>\n",
       "      <td>Low Increase in Direct Flights</td>\n",
       "    </tr>\n",
       "  </tbody>\n",
       "</table>\n",
       "</div>"
      ],
      "text/plain": [
       "          Country  Year  Tourist Arrivals           Flight Growth Category\n",
       "0         ALBANIA  1995             304.0  High Increase in Direct Flights\n",
       "1         ALGERIA  1995             520.0   Low Increase in Direct Flights\n",
       "2  AMERICAN SAMOA  1995              34.0   Low Increase in Direct Flights\n",
       "3         ANDORRA  1995               0.0                              NaN\n",
       "4          ANGOLA  1995               9.0   Low Increase in Direct Flights"
      ]
     },
     "execution_count": 4,
     "metadata": {},
     "output_type": "execute_result"
    }
   ],
   "source": [
    "# Pivot transport data to get air travel arrivals for 2010 and 2022\n",
    "transport_long = transport_df.melt(id_vars=[\"Country\", \"Arrival by mode of transport\"], \n",
    "                                   var_name=\"Year\", value_name=\"Arrivals\")\n",
    "\n",
    "# Convert Year to numeric\n",
    "transport_long[\"Year\"] = transport_long[\"Year\"].astype(int)\n",
    "\n",
    "# Filter only for air arrivals\n",
    "air_travel = transport_long[transport_long[\"Arrival by mode of transport\"] == \"Air\"]\n",
    "\n",
    "# Get 2010 and 2022 values for each country\n",
    "air_2010 = air_travel[air_travel[\"Year\"] == 2010][[\"Country\", \"Arrivals\"]].rename(columns={\"Arrivals\": \"Air_2010\"})\n",
    "air_2022 = air_travel[air_travel[\"Year\"] == 2022][[\"Country\", \"Arrivals\"]].rename(columns={\"Arrivals\": \"Air_2022\"})\n",
    "\n",
    "# Merge to compare growth\n",
    "growth_df = air_2010.merge(air_2022, on=\"Country\", how=\"inner\")\n",
    "\n",
    "# Define categories based on 50% growth threshold\n",
    "def classify_growth(row):\n",
    "    if row[\"Air_2022\"] > row[\"Air_2010\"] * 1.5:\n",
    "        return \"High Increase in Direct Flights\"\n",
    "    else:\n",
    "        return \"Low Increase in Direct Flights\"\n",
    "\n",
    "growth_df[\"Flight Growth Category\"] = growth_df.apply(classify_growth, axis=1)\n",
    "\n",
    "# Merge category with arrivals data\n",
    "merged_df = arrivals_long.merge(growth_df[[\"Country\", \"Flight Growth Category\"]], on=\"Country\", how=\"left\")\n",
    "\n",
    "# Preview data\n",
    "merged_df.head()\n"
   ]
  },
  {
   "cell_type": "code",
   "execution_count": 5,
   "metadata": {},
   "outputs": [
    {
     "name": "stdout",
     "output_type": "stream",
     "text": [
      "['High Increase in Direct Flights' 'Low Increase in Direct Flights' nan]\n"
     ]
    }
   ],
   "source": [
    "print(merged_df[\"Flight Growth Category\"].unique())\n",
    "\n",
    "merged_df[\"Flight Growth Category\"] = merged_df[\"Flight Growth Category\"].fillna(\"Low Increase in Direct Flights\")\n"
   ]
  },
  {
   "cell_type": "code",
   "execution_count": 6,
   "metadata": {},
   "outputs": [
    {
     "data": {
      "text/html": [
       "\n",
       "<style>\n",
       "  #altair-viz-a66099bd5d6c434b936780befe812e36.vega-embed {\n",
       "    width: 100%;\n",
       "    display: flex;\n",
       "  }\n",
       "\n",
       "  #altair-viz-a66099bd5d6c434b936780befe812e36.vega-embed details,\n",
       "  #altair-viz-a66099bd5d6c434b936780befe812e36.vega-embed details summary {\n",
       "    position: relative;\n",
       "  }\n",
       "</style>\n",
       "<div id=\"altair-viz-a66099bd5d6c434b936780befe812e36\"></div>\n",
       "<script type=\"text/javascript\">\n",
       "  var VEGA_DEBUG = (typeof VEGA_DEBUG == \"undefined\") ? {} : VEGA_DEBUG;\n",
       "  (function(spec, embedOpt){\n",
       "    let outputDiv = document.currentScript.previousElementSibling;\n",
       "    if (outputDiv.id !== \"altair-viz-a66099bd5d6c434b936780befe812e36\") {\n",
       "      outputDiv = document.getElementById(\"altair-viz-a66099bd5d6c434b936780befe812e36\");\n",
       "    }\n",
       "\n",
       "    const paths = {\n",
       "      \"vega\": \"https://cdn.jsdelivr.net/npm/vega@5?noext\",\n",
       "      \"vega-lib\": \"https://cdn.jsdelivr.net/npm/vega-lib?noext\",\n",
       "      \"vega-lite\": \"https://cdn.jsdelivr.net/npm/vega-lite@5.20.1?noext\",\n",
       "      \"vega-embed\": \"https://cdn.jsdelivr.net/npm/vega-embed@6?noext\",\n",
       "    };\n",
       "\n",
       "    function maybeLoadScript(lib, version) {\n",
       "      var key = `${lib.replace(\"-\", \"\")}_version`;\n",
       "      return (VEGA_DEBUG[key] == version) ?\n",
       "        Promise.resolve(paths[lib]) :\n",
       "        new Promise(function(resolve, reject) {\n",
       "          var s = document.createElement('script');\n",
       "          document.getElementsByTagName(\"head\")[0].appendChild(s);\n",
       "          s.async = true;\n",
       "          s.onload = () => {\n",
       "            VEGA_DEBUG[key] = version;\n",
       "            return resolve(paths[lib]);\n",
       "          };\n",
       "          s.onerror = () => reject(`Error loading script: ${paths[lib]}`);\n",
       "          s.src = paths[lib];\n",
       "        });\n",
       "    }\n",
       "\n",
       "    function showError(err) {\n",
       "      outputDiv.innerHTML = `<div class=\"error\" style=\"color:red;\">${err}</div>`;\n",
       "      throw err;\n",
       "    }\n",
       "\n",
       "    function displayChart(vegaEmbed) {\n",
       "      vegaEmbed(outputDiv, spec, embedOpt)\n",
       "        .catch(err => showError(`Javascript Error: ${err.message}<br>This usually means there's a typo in your chart specification. See the javascript console for the full traceback.`));\n",
       "    }\n",
       "\n",
       "    if(typeof define === \"function\" && define.amd) {\n",
       "      requirejs.config({paths});\n",
       "      let deps = [\"vega-embed\"];\n",
       "      require(deps, displayChart, err => showError(`Error loading script: ${err.message}`));\n",
       "    } else {\n",
       "      maybeLoadScript(\"vega\", \"5\")\n",
       "        .then(() => maybeLoadScript(\"vega-lite\", \"5.20.1\"))\n",
       "        .then(() => maybeLoadScript(\"vega-embed\", \"6\"))\n",
       "        .catch(showError)\n",
       "        .then(() => displayChart(vegaEmbed));\n",
       "    }\n",
       "  })({\"config\": {\"view\": {\"continuousWidth\": 300, \"continuousHeight\": 300}}, \"layer\": [{\"data\": {\"name\": \"data-93030f2bbfd978a9e4e4a9bfda108789\"}, \"mark\": {\"type\": \"line\"}, \"encoding\": {\"color\": {\"field\": \"Flight Growth Category\", \"type\": \"nominal\"}, \"x\": {\"axis\": {\"labelAngle\": 45}, \"field\": \"Year\", \"title\": \"Year\", \"type\": \"ordinal\"}, \"y\": {\"field\": \"Tourist Arrivals\", \"title\": \"Average Tourist Arrivals\", \"type\": \"quantitative\"}}, \"title\": \"Tourism Growth Over Time Based on Direct Flight Increase\"}, {\"data\": {\"name\": \"data-d8fa5e80d81cab18e6a743b53f121c13\"}, \"mark\": {\"type\": \"rule\", \"color\": \"red\", \"strokeDash\": [5, 5]}, \"encoding\": {\"x\": {\"field\": \"Year\", \"type\": \"ordinal\"}}}], \"height\": 400, \"width\": 700, \"$schema\": \"https://vega.github.io/schema/vega-lite/v5.20.1.json\", \"datasets\": {\"data-93030f2bbfd978a9e4e4a9bfda108789\": [{\"Year\": 1995, \"Flight Growth Category\": \"High Increase in Direct Flights\", \"Tourist Arrivals\": 8671.028125}, {\"Year\": 1995, \"Flight Growth Category\": \"Low Increase in Direct Flights\", \"Tourist Arrivals\": 3808.8135869565217}, {\"Year\": 1996, \"Flight Growth Category\": \"High Increase in Direct Flights\", \"Tourist Arrivals\": 9088.0625}, {\"Year\": 1996, \"Flight Growth Category\": \"Low Increase in Direct Flights\", \"Tourist Arrivals\": 4517.665760869565}, {\"Year\": 1997, \"Flight Growth Category\": \"High Increase in Direct Flights\", \"Tourist Arrivals\": 9368.5}, {\"Year\": 1997, \"Flight Growth Category\": \"Low Increase in Direct Flights\", \"Tourist Arrivals\": 4740.783152173913}, {\"Year\": 1998, \"Flight Growth Category\": \"High Increase in Direct Flights\", \"Tourist Arrivals\": 9624.15625}, {\"Year\": 1998, \"Flight Growth Category\": \"Low Increase in Direct Flights\", \"Tourist Arrivals\": 4253.420108695653}, {\"Year\": 1999, \"Flight Growth Category\": \"High Increase in Direct Flights\", \"Tourist Arrivals\": 9937.690625}, {\"Year\": 1999, \"Flight Growth Category\": \"Low Increase in Direct Flights\", \"Tourist Arrivals\": 4424.602717391304}, {\"Year\": 2000, \"Flight Growth Category\": \"High Increase in Direct Flights\", \"Tourist Arrivals\": 10715.13125}, {\"Year\": 2000, \"Flight Growth Category\": \"Low Increase in Direct Flights\", \"Tourist Arrivals\": 4719.686413043479}, {\"Year\": 2001, \"Flight Growth Category\": \"High Increase in Direct Flights\", \"Tourist Arrivals\": 9943.396875}, {\"Year\": 2001, \"Flight Growth Category\": \"Low Increase in Direct Flights\", \"Tourist Arrivals\": 4741.452717391305}, {\"Year\": 2002, \"Flight Growth Category\": \"High Increase in Direct Flights\", \"Tourist Arrivals\": 9818.2125}, {\"Year\": 2002, \"Flight Growth Category\": \"Low Increase in Direct Flights\", \"Tourist Arrivals\": 4828.471739130435}, {\"Year\": 2003, \"Flight Growth Category\": \"High Increase in Direct Flights\", \"Tourist Arrivals\": 9693.39375}, {\"Year\": 2003, \"Flight Growth Category\": \"Low Increase in Direct Flights\", \"Tourist Arrivals\": 4936.070108695652}, {\"Year\": 2004, \"Flight Growth Category\": \"High Increase in Direct Flights\", \"Tourist Arrivals\": 10385.1125}, {\"Year\": 2004, \"Flight Growth Category\": \"Low Increase in Direct Flights\", \"Tourist Arrivals\": 5974.9070652173905}, {\"Year\": 2005, \"Flight Growth Category\": \"High Increase in Direct Flights\", \"Tourist Arrivals\": 10889.009375}, {\"Year\": 2005, \"Flight Growth Category\": \"Low Increase in Direct Flights\", \"Tourist Arrivals\": 6252.604347826086}, {\"Year\": 2006, \"Flight Growth Category\": \"High Increase in Direct Flights\", \"Tourist Arrivals\": 11197.70625}, {\"Year\": 2006, \"Flight Growth Category\": \"Low Increase in Direct Flights\", \"Tourist Arrivals\": 7080.841304347827}, {\"Year\": 2007, \"Flight Growth Category\": \"High Increase in Direct Flights\", \"Tourist Arrivals\": 11822.065625}, {\"Year\": 2007, \"Flight Growth Category\": \"Low Increase in Direct Flights\", \"Tourist Arrivals\": 7220.890217391305}, {\"Year\": 2008, \"Flight Growth Category\": \"High Increase in Direct Flights\", \"Tourist Arrivals\": 11968.803125}, {\"Year\": 2008, \"Flight Growth Category\": \"Low Increase in Direct Flights\", \"Tourist Arrivals\": 6935.336956521739}, {\"Year\": 2009, \"Flight Growth Category\": \"High Increase in Direct Flights\", \"Tourist Arrivals\": 11317.3625}, {\"Year\": 2009, \"Flight Growth Category\": \"Low Increase in Direct Flights\", \"Tourist Arrivals\": 6730.5701086956515}, {\"Year\": 2010, \"Flight Growth Category\": \"High Increase in Direct Flights\", \"Tourist Arrivals\": 11440.990625}, {\"Year\": 2010, \"Flight Growth Category\": \"Low Increase in Direct Flights\", \"Tourist Arrivals\": 7022.3065217391295}, {\"Year\": 2011, \"Flight Growth Category\": \"High Increase in Direct Flights\", \"Tourist Arrivals\": 11872.5375}, {\"Year\": 2011, \"Flight Growth Category\": \"Low Increase in Direct Flights\", \"Tourist Arrivals\": 7171.87943478261}, {\"Year\": 2012, \"Flight Growth Category\": \"High Increase in Direct Flights\", \"Tourist Arrivals\": 12334.409375}, {\"Year\": 2012, \"Flight Growth Category\": \"Low Increase in Direct Flights\", \"Tourist Arrivals\": 7496.930989130435}, {\"Year\": 2013, \"Flight Growth Category\": \"High Increase in Direct Flights\", \"Tourist Arrivals\": 12923.978125}, {\"Year\": 2013, \"Flight Growth Category\": \"Low Increase in Direct Flights\", \"Tourist Arrivals\": 7814.049494565218}, {\"Year\": 2014, \"Flight Growth Category\": \"High Increase in Direct Flights\", \"Tourist Arrivals\": 13494.2625}, {\"Year\": 2014, \"Flight Growth Category\": \"Low Increase in Direct Flights\", \"Tourist Arrivals\": 8116.0193152173915}, {\"Year\": 2015, \"Flight Growth Category\": \"High Increase in Direct Flights\", \"Tourist Arrivals\": 14180.1375}, {\"Year\": 2015, \"Flight Growth Category\": \"Low Increase in Direct Flights\", \"Tourist Arrivals\": 8263.418076086957}, {\"Year\": 2016, \"Flight Growth Category\": \"High Increase in Direct Flights\", \"Tourist Arrivals\": 14703.484375}, {\"Year\": 2016, \"Flight Growth Category\": \"Low Increase in Direct Flights\", \"Tourist Arrivals\": 8574.251565217392}, {\"Year\": 2017, \"Flight Growth Category\": \"High Increase in Direct Flights\", \"Tourist Arrivals\": 15540.296875}, {\"Year\": 2017, \"Flight Growth Category\": \"Low Increase in Direct Flights\", \"Tourist Arrivals\": 8990.677423913043}, {\"Year\": 2018, \"Flight Growth Category\": \"High Increase in Direct Flights\", \"Tourist Arrivals\": 16181.646875}, {\"Year\": 2018, \"Flight Growth Category\": \"Low Increase in Direct Flights\", \"Tourist Arrivals\": 9334.512597826088}, {\"Year\": 2019, \"Flight Growth Category\": \"High Increase in Direct Flights\", \"Tourist Arrivals\": 16968.56875}, {\"Year\": 2019, \"Flight Growth Category\": \"Low Increase in Direct Flights\", \"Tourist Arrivals\": 9569.106521739131}, {\"Year\": 2020, \"Flight Growth Category\": \"High Increase in Direct Flights\", \"Tourist Arrivals\": 6838.740625}, {\"Year\": 2020, \"Flight Growth Category\": \"Low Increase in Direct Flights\", \"Tourist Arrivals\": 2766.6103260869563}, {\"Year\": 2021, \"Flight Growth Category\": \"High Increase in Direct Flights\", \"Tourist Arrivals\": 8429.25125}, {\"Year\": 2021, \"Flight Growth Category\": \"Low Increase in Direct Flights\", \"Tourist Arrivals\": 2910.127206521739}, {\"Year\": 2022, \"Flight Growth Category\": \"High Increase in Direct Flights\", \"Tourist Arrivals\": 13708.620125}, {\"Year\": 2022, \"Flight Growth Category\": \"Low Increase in Direct Flights\", \"Tourist Arrivals\": 3668.3978260869562}], \"data-d8fa5e80d81cab18e6a743b53f121c13\": [{\"Year\": 2020}]}}, {\"mode\": \"vega-lite\"});\n",
       "</script>"
      ],
      "text/plain": [
       "alt.LayerChart(...)"
      ]
     },
     "execution_count": 6,
     "metadata": {},
     "output_type": "execute_result"
    }
   ],
   "source": [
    "agg_df = merged_df.groupby([\"Year\", \"Flight Growth Category\"])[\"Tourist Arrivals\"].mean().reset_index()\n",
    "agg_df[\"Year\"] = agg_df[\"Year\"].astype(int)  # Ensure Year is an integer\n",
    "covid_rule = alt.Chart(pd.DataFrame({\"Year\": [2020]})).mark_rule(color=\"red\", strokeDash=[5,5]).encode(x=\"Year:O\")\n",
    "\n",
    "color=alt.Color(\"Flight Growth Category:N\", scale=alt.Scale(scheme=\"category10\"))\n",
    "\n",
    "chart = alt.Chart(agg_df).mark_line().encode(\n",
    "    x=alt.X(\"Year:O\", title=\"Year\", axis=alt.Axis(labelAngle=45)),\n",
    "    y=alt.Y(\"Tourist Arrivals:Q\", title=\"Average Tourist Arrivals\"),\n",
    "    color=\"Flight Growth Category:N\"\n",
    ").properties(\n",
    "    title=\"Tourism Growth Over Time Based on Direct Flight Increase\",\n",
    "    width=700,\n",
    "    height=400\n",
    ")\n",
    "\n",
    "\n",
    "chart + covid_rule\n"
   ]
  },
  {
   "cell_type": "code",
   "execution_count": 7,
   "metadata": {},
   "outputs": [
    {
     "name": "stdout",
     "output_type": "stream",
     "text": [
      "Flight Growth Category\n",
      "High Increase in Direct Flights    28\n",
      "Low Increase in Direct Flights     28\n",
      "Name: count, dtype: int64\n"
     ]
    }
   ],
   "source": [
    "print(agg_df[\"Flight Growth Category\"].value_counts())\n"
   ]
  }
 ],
 "metadata": {
  "kernelspec": {
   "display_name": "datavis_env",
   "language": "python",
   "name": "python3"
  },
  "language_info": {
   "codemirror_mode": {
    "name": "ipython",
    "version": 3
   },
   "file_extension": ".py",
   "mimetype": "text/x-python",
   "name": "python",
   "nbconvert_exporter": "python",
   "pygments_lexer": "ipython3",
   "version": "3.10.16"
  }
 },
 "nbformat": 4,
 "nbformat_minor": 2
}
